{
 "cells": [
  {
   "cell_type": "code",
   "execution_count": 1,
   "metadata": {
    "collapsed": false
   },
   "outputs": [
    {
     "data": {
      "text/plain": [
       "<torch._C.Generator at 0x58f7c70>"
      ]
     },
     "execution_count": 1,
     "metadata": {},
     "output_type": "execute_result"
    }
   ],
   "source": [
    "# Lab 5 Logistic Regression Classifier\n",
    "import torch\n",
    "from torch.autograd import Variable\n",
    "import torch.nn.functional as F\n",
    "import numpy as np\n",
    "\n",
    "torch.manual_seed(777)"
   ]
  },
  {
   "cell_type": "code",
   "execution_count": 2,
   "metadata": {
    "collapsed": true
   },
   "outputs": [],
   "source": [
    "from torch.utils.data import Dataset, DataLoader, TensorDataset"
   ]
  },
  {
   "cell_type": "code",
   "execution_count": 3,
   "metadata": {
    "collapsed": true
   },
   "outputs": [],
   "source": [
    "x = np.loadtxt('./firstLastData.csv', delimiter=',', dtype=np.float32)\n",
    "y = np.loadtxt('./firstLastResult.csv', delimiter=',', dtype=np.float32)\n",
    "x_data = x\n",
    "y_data = y"
   ]
  },
  {
   "cell_type": "code",
   "execution_count": 4,
   "metadata": {
    "collapsed": false
   },
   "outputs": [
    {
     "data": {
      "text/plain": [
       "12406"
      ]
     },
     "execution_count": 4,
     "metadata": {},
     "output_type": "execute_result"
    }
   ],
   "source": [
    "len(y_data[y_data==1])"
   ]
  },
  {
   "cell_type": "code",
   "execution_count": null,
   "metadata": {
    "collapsed": true
   },
   "outputs": [],
   "source": []
  },
  {
   "cell_type": "code",
   "execution_count": null,
   "metadata": {
    "collapsed": true
   },
   "outputs": [],
   "source": []
  },
  {
   "cell_type": "code",
   "execution_count": null,
   "metadata": {
    "collapsed": true
   },
   "outputs": [],
   "source": []
  },
  {
   "cell_type": "code",
   "execution_count": 5,
   "metadata": {
    "collapsed": true
   },
   "outputs": [],
   "source": [
    "X = Variable(torch.from_numpy(x_data))\n",
    "Y = Variable(torch.from_numpy(y_data))"
   ]
  },
  {
   "cell_type": "code",
   "execution_count": 6,
   "metadata": {
    "collapsed": false
   },
   "outputs": [
    {
     "data": {
      "text/plain": [
       "torch.Size([26039, 259])"
      ]
     },
     "execution_count": 6,
     "metadata": {},
     "output_type": "execute_result"
    }
   ],
   "source": [
    "X.size()"
   ]
  },
  {
   "cell_type": "code",
   "execution_count": 7,
   "metadata": {
    "collapsed": true
   },
   "outputs": [],
   "source": [
    "# Hypothesis using sigmoid: tf.div(1., 1. + tf.exp(tf.matmul(X, W)))\n",
    "\n",
    "#linear = torch.nn.Linear(259, 1, bias=True)\n",
    "#sigmoid = torch.nn.Sigmoid()\n",
    "#model = torch.nn.Sequential(linear, sigmoid)\n",
    "\n",
    "\n"
   ]
  },
  {
   "cell_type": "code",
   "execution_count": 8,
   "metadata": {
    "collapsed": true
   },
   "outputs": [],
   "source": [
    "class Model(torch.nn.Module):\n",
    "    def __init__(self):\n",
    "        super(Model, self).__init__()\n",
    "        self.linear1 = torch.nn.Linear(259, 128, bias=True)\n",
    "        self.linear2 = torch.nn.Linear(128, 64, bias=True)\n",
    "        self.linear3 = torch.nn.Linear( 64, 32, bias= True)\n",
    "        self.linear4 = torch.nn.Linear( 32, 16, bias= True)\n",
    "        self.linear5 = torch.nn.Linear( 16, 1, bias= True)\n",
    "        \n",
    "        self.linearTemp = torch.nn.Linear(128,1, bias=True)\n",
    "        self.bn1 = torch.nn.BatchNorm1d(128)\n",
    "        self.bn2 = torch.nn.BatchNorm1d(64)\n",
    "        self.bn3 = torch.nn.BatchNorm1d(32)\n",
    "        self.bn4 = torch.nn.BatchNorm1d(16)\n",
    "        \n",
    "        self.sig1 = torch.nn.Sigmoid()\n",
    "        self.sig2 = torch.nn.Sigmoid()\n",
    "        self.sig3 = torch.nn.Sigmoid()       \n",
    "        self.sig4 = torch.nn.Sigmoid()\n",
    "        self.sig5 = torch.nn.Sigmoid()\n",
    "    \n",
    "    def forward(self,x):\n",
    "        x1 = self.bn1(F.relu(self.linear1(x)))\n",
    "        x2 = self.bn2(F.relu(self.linear2(x1)))\n",
    "        x3 = self.bn3( F.relu(self.linear3(x2)))\n",
    "        x4 = self.bn4( F.relu(self.linear4(x3)))\n",
    "        x5 = F.relu( self.linear5(x4))\n",
    "        \n",
    "        return x5\n",
    "    \n",
    "    def forwardSig(self,x):\n",
    "        x1 = self.bn1( self.sig1(self.linear1(x)))\n",
    "        x2 = self.bn2( self.sig2(self.linear2(x1)))\n",
    "        x3 = self.bn3( self.sig3(self.linear3(x2)))\n",
    "        x4 = self.bn4( self.sig4(self.linear4(x3)))\n",
    "        x5 = self.sig5( self.linear5(x4))\n",
    "        \n",
    "        return x5    "
   ]
  },
  {
   "cell_type": "code",
   "execution_count": 9,
   "metadata": {
    "collapsed": true
   },
   "outputs": [],
   "source": [
    "class ModelSimple(torch.nn.Module):\n",
    "    def __init__(self):\n",
    "        super(Model, self).__init__()\n",
    "        self.linear1 = torch.nn.Linear(259, 128, bias=True)\n",
    "        self.linear2 = torch.nn.Linear( 128, 64, bias= True)\n",
    "        self.linear3 = torch.nn.Linear( 64, 1, bias= True)\n",
    "        \n",
    "        self.linearTemp = torch.nn.Linear(128,1, bias=True)\n",
    "        self.bn1 = torch.nn.BatchNorm1d(128)\n",
    "        self.bn2 = torch.nn.BatchNorm1d(64)\n",
    "        self.bn3 = torch.nn.BatchNorm1d(32)\n",
    "        self.bn4 = torch.nn.BatchNorm1d(16)\n",
    "        \n",
    "        self.sig1 = torch.nn.Sigmoid()\n",
    "        self.sig2 = torch.nn.Sigmoid()\n",
    "        self.sig3 = torch.nn.Sigmoid()       \n",
    "        self.sig4 = torch.nn.Sigmoid()\n",
    "        self.sig5 = torch.nn.Sigmoid()\n",
    "    \n",
    "    def forward(self,x):\n",
    "        x1 = self.bn1(F.relu(self.linear1(x)))\n",
    "        x2 = self.bn2(F.relu(self.linear2(x1)))\n",
    "        x3 = F.relu(self.linear3(x2))\n",
    "        # x3 = self.linear3(x2)\n",
    "        \n",
    "        return x3\n",
    "    \n",
    "    def forwardSig(self,x):\n",
    "        x1 = self.bn1( self.sig1(self.linear1(x)))\n",
    "        x2 = self.bn2( self.sig2(self.linear2(x1)))\n",
    "        x3 = self.sig3(self.linear3(x2))\n",
    "        \n",
    "        return x3    \n",
    "    \n",
    "    def forwardWithoutBN(self,x):\n",
    "        x1 = F.relu(self.linear1(x))\n",
    "        x2 = F.relu(self.linear2(x1))\n",
    "        x3 = F.relu(self.linear3(x2))\n",
    "        \n",
    "        return x3\n",
    "    "
   ]
  },
  {
   "cell_type": "code",
   "execution_count": 10,
   "metadata": {
    "collapsed": true
   },
   "outputs": [],
   "source": [
    "dataset = TensorDataset(X, Y)"
   ]
  },
  {
   "cell_type": "code",
   "execution_count": 11,
   "metadata": {
    "collapsed": true
   },
   "outputs": [],
   "source": [
    "dataloader = DataLoader(dataset, batch_size=5000,\n",
    "                        shuffle=False, num_workers=4)  "
   ]
  },
  {
   "cell_type": "code",
   "execution_count": 12,
   "metadata": {
    "collapsed": true
   },
   "outputs": [],
   "source": [
    "#train_loader = torch.utils.data.DataLoader( dataset=X, \n",
    " #                                          batch_size=batch_size, \n",
    " #                                          shuffle=False))"
   ]
  },
  {
   "cell_type": "code",
   "execution_count": null,
   "metadata": {
    "collapsed": true
   },
   "outputs": [],
   "source": []
  },
  {
   "cell_type": "code",
   "execution_count": 13,
   "metadata": {
    "collapsed": true
   },
   "outputs": [],
   "source": [
    "model = Model()"
   ]
  },
  {
   "cell_type": "code",
   "execution_count": 14,
   "metadata": {
    "collapsed": false
   },
   "outputs": [],
   "source": [
    "#optimizer = torch.optim.SGD(model.parameters(), lr=0.01)\n",
    "optimizer = torch.optim.ASGD(model.parameters(), lr=0.01)\n",
    "#criterion = torch.nn.CrossMapLRN2d(259)\n",
    "#loss_fn = torch.nn.MSELoss(reduction='sum')\n",
    "#criterion = torch.nn.CrossEntropyLoss()\n",
    "#loss = torch.nn.MSELoss()\n",
    "#loss = torch.nn.BCELoss()\n",
    "loss = torch.nn.BCEWithLogitsLoss()"
   ]
  },
  {
   "cell_type": "code",
   "execution_count": null,
   "metadata": {
    "collapsed": true
   },
   "outputs": [],
   "source": []
  },
  {
   "cell_type": "code",
   "execution_count": null,
   "metadata": {
    "collapsed": true
   },
   "outputs": [],
   "source": []
  },
  {
   "cell_type": "code",
   "execution_count": null,
   "metadata": {
    "collapsed": true
   },
   "outputs": [],
   "source": []
  },
  {
   "cell_type": "markdown",
   "metadata": {},
   "source": [
    "y = Y\n",
    "x = X\n",
    "\n",
    "for step in range(31):\n",
    "\n",
    "        # i = 0\n",
    "        #for x in X:\n",
    "       # y = Y[i]\n",
    "        #i += 1\n",
    "        #hypothesis = model(x)\n",
    "        #model = Model()\n",
    "        hypothesis = model(x)\n",
    "        # cost/loss function\n",
    "        # cost = -(y * torch.log(hypothesis) + (1 - y) * torch.log(1 - hypothesis)).mean()\n",
    "        # cost = criterion( hypothesis, y )\n",
    "        yy = torch.unsqueeze(y, 1)\n",
    "        cost = loss( hypothesis, yy )\n",
    "        #print( x )\n",
    "        #print(index, cost.data.numpy() )\n",
    "        \n",
    "        # cost = criterion( hypothesis, Y.long().view(-1))\n",
    "        # cons = loss_fn( hypothesis, Y)\n",
    "        optimizer.zero_grad()\n",
    "        cost.backward()\n",
    "        optimizer.step()\n",
    "\n",
    "        print(step, cost.data.numpy())"
   ]
  },
  {
   "cell_type": "code",
   "execution_count": 15,
   "metadata": {
    "collapsed": true
   },
   "outputs": [],
   "source": [
    "def PrintAccuracyForSig():\n",
    "    # Accuracy computation\n",
    "    predicted = (model(X).data >0.5).float()\n",
    "    accuracy = (predicted == Y.data).float().mean()\n",
    "    print(\"Accuracy: \", accuracy)"
   ]
  },
  {
   "cell_type": "code",
   "execution_count": null,
   "metadata": {
    "collapsed": true
   },
   "outputs": [],
   "source": [
    "def PrintAccuracy():\n",
    "    # Accuracy computation\n",
    "    predicted = (model(X).data >0).float()\n",
    "    accuracy = (predicted.reshape(-1) == Y.data).float().mean()\n",
    "    print(\"Accuracy: \", accuracy)"
   ]
  },
  {
   "cell_type": "code",
   "execution_count": null,
   "metadata": {
    "collapsed": false,
    "scrolled": false
   },
   "outputs": [
    {
     "name": "stdout",
     "output_type": "stream",
     "text": [
      "0 0.6923727989196777\n",
      "Accuracy:  tensor(0.5500)\n",
      "100 0.6693254113197327\n",
      "Accuracy:  tensor(0.6279)\n",
      "200 0.6631410717964172\n",
      "Accuracy:  tensor(0.6260)\n",
      "300 0.657487154006958\n",
      "Accuracy:  tensor(0.6278)\n",
      "400 0.6512547731399536\n",
      "Accuracy:  tensor(0.6285)\n",
      "500 0.6406717896461487\n",
      "Accuracy:  tensor(0.6237)\n",
      "600 0.6338208913803101\n",
      "Accuracy:  tensor(0.6288)\n",
      "700 0.6333965063095093\n",
      "Accuracy:  tensor(0.6279)\n",
      "800 0.6478458642959595\n",
      "Accuracy:  tensor(0.6274)\n",
      "900 0.6294586658477783\n",
      "Accuracy:  tensor(0.6291)\n",
      "1000 0.622764527797699\n",
      "Accuracy:  tensor(0.6275)\n",
      "1100 0.619151771068573\n",
      "Accuracy:  tensor(0.6292)\n",
      "1200 0.6124328970909119\n",
      "Accuracy:  tensor(0.6295)\n",
      "1300 0.6223899126052856\n",
      "Accuracy:  tensor(0.6304)\n",
      "1400 0.606228768825531\n",
      "Accuracy:  tensor(0.6307)\n",
      "1500 0.6177878975868225\n",
      "Accuracy:  tensor(0.6321)\n",
      "1600 0.6213812232017517\n",
      "Accuracy:  tensor(0.6291)\n",
      "1700 0.6200570464134216\n",
      "Accuracy:  tensor(0.6292)\n",
      "1800 0.610107421875\n",
      "Accuracy:  tensor(0.6323)\n",
      "1900 0.5987026691436768\n",
      "Accuracy:  tensor(0.6090)\n",
      "2000 0.5908048152923584\n",
      "Accuracy:  tensor(0.6331)\n",
      "2100 0.6025214791297913\n",
      "Accuracy:  tensor(0.6313)\n",
      "2200 0.5948459506034851\n",
      "Accuracy:  tensor(0.6327)\n",
      "2300 0.5848575830459595\n",
      "Accuracy:  tensor(0.6280)\n",
      "2400 0.5822526216506958\n",
      "Accuracy:  tensor(0.6228)\n",
      "2500 0.5814720392227173\n",
      "Accuracy:  tensor(0.6341)\n",
      "2600 0.6093138456344604\n",
      "Accuracy:  tensor(0.6335)\n",
      "2700 0.592785120010376\n",
      "Accuracy:  tensor(0.6327)\n",
      "2800 0.5831634998321533\n",
      "Accuracy:  tensor(0.6319)\n",
      "2900 0.5937299728393555\n",
      "Accuracy:  tensor(0.6325)\n",
      "3000 0.5772529244422913\n",
      "Accuracy:  tensor(0.6331)\n",
      "3100 0.5832231044769287\n",
      "Accuracy:  tensor(0.6220)\n"
     ]
    }
   ],
   "source": [
    "#y = Y\n",
    "#x = X\n",
    "\n",
    "for step in range(10001):\n",
    "\n",
    "    #i = 0\n",
    "    #for x in X:\n",
    "    #    y = Y[i]\n",
    "    #    i += 1\n",
    "    for index, (x, y) in enumerate(dataloader):    \n",
    "        #hypothesis = model(x)\n",
    "        #model = Model()\n",
    "        hypothesis = model(x)\n",
    "        # cost/loss function\n",
    "        # cost = -(y * torch.log(hypothesis) + (1 - y) * torch.log(1 - hypothesis)).mean()\n",
    "        # cost = criterion( hypothesis, y )\n",
    "        y = torch.unsqueeze(y, 1)\n",
    "        cost = loss( hypothesis, y )\n",
    "        #print( x )\n",
    "        #print(index, cost.data.numpy() )\n",
    "        \n",
    "        # cost = criterion( hypothesis, Y.long().view(-1))\n",
    "        # cons = loss_fn( hypothesis, Y)\n",
    "        optimizer.zero_grad()\n",
    "        cost.backward()\n",
    "        optimizer.step()\n",
    "\n",
    "    if step % 100 == 0:\n",
    "        print(step, cost.data.numpy())\n",
    "        PrintAccuracy()"
   ]
  },
  {
   "cell_type": "code",
   "execution_count": null,
   "metadata": {
    "collapsed": false
   },
   "outputs": [],
   "source": [
    "# Accuracy computation\n",
    "predicted = (model(X).data > 0).float()\n",
    "accuracy = (predicted.reshape(-1) == Y.data).float().mean()\n",
    "print(\"\\nHypothesis: \", hypothesis.data.numpy(), \"\\nCorrect (Y): \", predicted.numpy(), \"\\nAccuracy: \", accuracy)"
   ]
  },
  {
   "cell_type": "code",
   "execution_count": null,
   "metadata": {
    "collapsed": true
   },
   "outputs": [],
   "source": [
    "pData = model(X)"
   ]
  },
  {
   "cell_type": "code",
   "execution_count": null,
   "metadata": {
    "collapsed": true
   },
   "outputs": [],
   "source": []
  },
  {
   "cell_type": "code",
   "execution_count": null,
   "metadata": {
    "collapsed": false
   },
   "outputs": [],
   "source": [
    "(predicted.data == 1).float().mean()"
   ]
  },
  {
   "cell_type": "code",
   "execution_count": null,
   "metadata": {
    "collapsed": false
   },
   "outputs": [],
   "source": [
    "(Y.data == 0).float().mean()"
   ]
  },
  {
   "cell_type": "code",
   "execution_count": null,
   "metadata": {
    "collapsed": false
   },
   "outputs": [],
   "source": [
    "( predicted == 0 ).float().mean()"
   ]
  },
  {
   "cell_type": "code",
   "execution_count": null,
   "metadata": {
    "collapsed": false
   },
   "outputs": [],
   "source": [
    "l = (predicted.data).float().tolist()"
   ]
  },
  {
   "cell_type": "code",
   "execution_count": null,
   "metadata": {
    "collapsed": false,
    "scrolled": true
   },
   "outputs": [],
   "source": [
    "predicted.tolist()"
   ]
  },
  {
   "cell_type": "code",
   "execution_count": null,
   "metadata": {
    "collapsed": false
   },
   "outputs": [],
   "source": [
    "loss(predicted,torch.unsqueeze(Y, 1))"
   ]
  },
  {
   "cell_type": "code",
   "execution_count": null,
   "metadata": {
    "collapsed": false
   },
   "outputs": [],
   "source": [
    "len(Y)"
   ]
  },
  {
   "cell_type": "code",
   "execution_count": null,
   "metadata": {
    "collapsed": false
   },
   "outputs": [],
   "source": [
    "len(predicted)"
   ]
  },
  {
   "cell_type": "code",
   "execution_count": null,
   "metadata": {
    "collapsed": false
   },
   "outputs": [],
   "source": [
    "res = model(X)"
   ]
  },
  {
   "cell_type": "code",
   "execution_count": null,
   "metadata": {
    "collapsed": false
   },
   "outputs": [],
   "source": [
    "res"
   ]
  },
  {
   "cell_type": "code",
   "execution_count": null,
   "metadata": {
    "collapsed": false
   },
   "outputs": [],
   "source": [
    "predicted"
   ]
  },
  {
   "cell_type": "code",
   "execution_count": null,
   "metadata": {
    "collapsed": true
   },
   "outputs": [],
   "source": [
    "tmp = model(X).data"
   ]
  },
  {
   "cell_type": "code",
   "execution_count": null,
   "metadata": {
    "collapsed": false
   },
   "outputs": [],
   "source": [
    "tmp"
   ]
  },
  {
   "cell_type": "code",
   "execution_count": null,
   "metadata": {
    "collapsed": false
   },
   "outputs": [],
   "source": [
    "import pandas as pd"
   ]
  },
  {
   "cell_type": "code",
   "execution_count": null,
   "metadata": {
    "collapsed": false
   },
   "outputs": [],
   "source": [
    "df = pd.DataFrame(tmp.tolist())"
   ]
  },
  {
   "cell_type": "code",
   "execution_count": null,
   "metadata": {
    "collapsed": false
   },
   "outputs": [],
   "source": [
    "df.describe()"
   ]
  },
  {
   "cell_type": "code",
   "execution_count": null,
   "metadata": {
    "collapsed": false
   },
   "outputs": [],
   "source": [
    "len( df.loc[ df[0] < 0.1 ] )"
   ]
  },
  {
   "cell_type": "code",
   "execution_count": null,
   "metadata": {
    "collapsed": false
   },
   "outputs": [],
   "source": [
    "len(df)"
   ]
  },
  {
   "cell_type": "code",
   "execution_count": null,
   "metadata": {
    "collapsed": false
   },
   "outputs": [],
   "source": [
    "dfResult = pd.DataFrame( Y.tolist() )"
   ]
  },
  {
   "cell_type": "code",
   "execution_count": null,
   "metadata": {
    "collapsed": false
   },
   "outputs": [],
   "source": [
    "dfResult.loc[ df[0] < 0.1 ].sum()"
   ]
  },
  {
   "cell_type": "code",
   "execution_count": null,
   "metadata": {
    "collapsed": false
   },
   "outputs": [],
   "source": [
    "dfResult.loc[ df[0] < 0.1 ].describe()"
   ]
  },
  {
   "cell_type": "code",
   "execution_count": null,
   "metadata": {
    "collapsed": false
   },
   "outputs": [],
   "source": [
    "t = predicted==Y.data"
   ]
  },
  {
   "cell_type": "code",
   "execution_count": null,
   "metadata": {
    "collapsed": false
   },
   "outputs": [],
   "source": [
    "Y.data"
   ]
  },
  {
   "cell_type": "code",
   "execution_count": null,
   "metadata": {
    "collapsed": false
   },
   "outputs": [],
   "source": [
    "predicted"
   ]
  },
  {
   "cell_type": "code",
   "execution_count": null,
   "metadata": {
    "collapsed": false
   },
   "outputs": [],
   "source": [
    "Y.data.shape"
   ]
  },
  {
   "cell_type": "code",
   "execution_count": null,
   "metadata": {
    "collapsed": false
   },
   "outputs": [],
   "source": [
    "(predicted.reshape(26039)==Y.data).float().mean()"
   ]
  },
  {
   "cell_type": "code",
   "execution_count": null,
   "metadata": {
    "collapsed": false
   },
   "outputs": [],
   "source": [
    "predicted.reshape(-1)"
   ]
  },
  {
   "cell_type": "code",
   "execution_count": null,
   "metadata": {
    "collapsed": false
   },
   "outputs": [],
   "source": [
    "Y.data"
   ]
  },
  {
   "cell_type": "code",
   "execution_count": null,
   "metadata": {
    "collapsed": false
   },
   "outputs": [],
   "source": [
    "predicted"
   ]
  },
  {
   "cell_type": "code",
   "execution_count": null,
   "metadata": {
    "collapsed": true
   },
   "outputs": [],
   "source": []
  }
 ],
 "metadata": {
  "kernelspec": {
   "display_name": "Python 3",
   "language": "python",
   "name": "python3"
  },
  "language_info": {
   "codemirror_mode": {
    "name": "ipython",
    "version": 3
   },
   "file_extension": ".py",
   "mimetype": "text/x-python",
   "name": "python",
   "nbconvert_exporter": "python",
   "pygments_lexer": "ipython3",
   "version": "3.6.0"
  }
 },
 "nbformat": 4,
 "nbformat_minor": 2
}
