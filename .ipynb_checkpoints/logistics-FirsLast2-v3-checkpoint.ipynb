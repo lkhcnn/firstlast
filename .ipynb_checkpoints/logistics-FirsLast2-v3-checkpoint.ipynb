{
 "cells": [
  {
   "cell_type": "code",
   "execution_count": 1,
   "metadata": {
    "collapsed": false
   },
   "outputs": [
    {
     "data": {
      "text/plain": [
       "<torch._C.Generator at 0x5f07e10>"
      ]
     },
     "execution_count": 1,
     "metadata": {},
     "output_type": "execute_result"
    }
   ],
   "source": [
    "# Lab 5 Logistic Regression Classifier\n",
    "import torch\n",
    "from torch.autograd import Variable\n",
    "import torch.nn.functional as F\n",
    "import numpy as np\n",
    "\n",
    "torch.manual_seed(777)"
   ]
  },
  {
   "cell_type": "code",
   "execution_count": 2,
   "metadata": {
    "collapsed": true
   },
   "outputs": [],
   "source": [
    "from torch.utils.data import Dataset, DataLoader, TensorDataset"
   ]
  },
  {
   "cell_type": "code",
   "execution_count": 3,
   "metadata": {
    "collapsed": true
   },
   "outputs": [],
   "source": [
    "x = np.loadtxt('./firstLastData.csv', delimiter=',', dtype=np.float32)\n",
    "y = np.loadtxt('./firstLastResult.csv', delimiter=',', dtype=np.float32)\n",
    "x_data = x\n",
    "y_data = y"
   ]
  },
  {
   "cell_type": "code",
   "execution_count": 4,
   "metadata": {
    "collapsed": false
   },
   "outputs": [
    {
     "data": {
      "text/plain": [
       "8529"
      ]
     },
     "execution_count": 4,
     "metadata": {},
     "output_type": "execute_result"
    }
   ],
   "source": [
    "len(y_data[y_data==1])"
   ]
  },
  {
   "cell_type": "code",
   "execution_count": null,
   "metadata": {
    "collapsed": true
   },
   "outputs": [],
   "source": []
  },
  {
   "cell_type": "code",
   "execution_count": null,
   "metadata": {
    "collapsed": true
   },
   "outputs": [],
   "source": []
  },
  {
   "cell_type": "code",
   "execution_count": null,
   "metadata": {
    "collapsed": true
   },
   "outputs": [],
   "source": []
  },
  {
   "cell_type": "code",
   "execution_count": 5,
   "metadata": {
    "collapsed": true
   },
   "outputs": [],
   "source": [
    "X = Variable(torch.from_numpy(x_data))\n",
    "Y = Variable(torch.from_numpy(y_data))"
   ]
  },
  {
   "cell_type": "code",
   "execution_count": 6,
   "metadata": {
    "collapsed": false
   },
   "outputs": [
    {
     "data": {
      "text/plain": [
       "torch.Size([26039, 259])"
      ]
     },
     "execution_count": 6,
     "metadata": {},
     "output_type": "execute_result"
    }
   ],
   "source": [
    "X.size()"
   ]
  },
  {
   "cell_type": "code",
   "execution_count": 7,
   "metadata": {
    "collapsed": true
   },
   "outputs": [],
   "source": [
    "# Hypothesis using sigmoid: tf.div(1., 1. + tf.exp(tf.matmul(X, W)))\n",
    "\n",
    "#linear = torch.nn.Linear(259, 1, bias=True)\n",
    "#sigmoid = torch.nn.Sigmoid()\n",
    "#model = torch.nn.Sequential(linear, sigmoid)\n",
    "\n",
    "\n"
   ]
  },
  {
   "cell_type": "code",
   "execution_count": 8,
   "metadata": {
    "collapsed": true
   },
   "outputs": [],
   "source": [
    "class Model(torch.nn.Module):\n",
    "    def __init__(self):\n",
    "        super(Model, self).__init__()\n",
    "        self.linear1 = torch.nn.Linear(259, 128, bias=True)\n",
    "        self.linear2 = torch.nn.Linear(128, 64, bias=True)\n",
    "        self.linear3 = torch.nn.Linear( 64, 1, bias= True)\n",
    "        self.linearTemp = torch.nn.Linear(128,1, bias=True)\n",
    "        self.bn1 = torch.nn.BatchNorm1d(128)\n",
    "        self.bn2 = torch.nn.BatchNorm1d(64)\n",
    "\n",
    "    \n",
    "    def forward(self,x):\n",
    "        x1 = self.bn1(F.relu(self.linear1(x)))\n",
    "        x2= self.bn2(F.relu(self.linear2(x1)))\n",
    "        x3 = F.relu( self.linear3(x2))\n",
    "        return x3"
   ]
  },
  {
   "cell_type": "code",
   "execution_count": 9,
   "metadata": {
    "collapsed": true
   },
   "outputs": [],
   "source": [
    "dataset = TensorDataset(X, Y)"
   ]
  },
  {
   "cell_type": "code",
   "execution_count": 10,
   "metadata": {
    "collapsed": true
   },
   "outputs": [],
   "source": [
    "dataloader = DataLoader(dataset, batch_size=3000,\n",
    "                        shuffle=False, num_workers=4)  "
   ]
  },
  {
   "cell_type": "code",
   "execution_count": 11,
   "metadata": {
    "collapsed": true
   },
   "outputs": [],
   "source": [
    "#train_loader = torch.utils.data.DataLoader( dataset=X, \n",
    " #                                          batch_size=batch_size, \n",
    " #                                          shuffle=False))"
   ]
  },
  {
   "cell_type": "code",
   "execution_count": null,
   "metadata": {
    "collapsed": true
   },
   "outputs": [],
   "source": []
  },
  {
   "cell_type": "code",
   "execution_count": 12,
   "metadata": {
    "collapsed": true
   },
   "outputs": [],
   "source": [
    "model = Model()"
   ]
  },
  {
   "cell_type": "code",
   "execution_count": null,
   "metadata": {
    "collapsed": true
   },
   "outputs": [],
   "source": [
    "#optimizer = torch.optim.SGD(model.parameters(), lr=0.01)\n",
    "optimizer = torch.optim.ASGD(model.parameters(), lr=0.01)\n",
    "#criterion = torch.nn.CrossMapLRN2d(259)\n",
    "#loss_fn = torch.nn.MSELoss(reduction='sum')\n",
    "#criterion = torch.nn.CrossEntropyLoss()\n",
    "loss = torch.nn.MSELoss()"
   ]
  },
  {
   "cell_type": "code",
   "execution_count": null,
   "metadata": {
    "collapsed": true
   },
   "outputs": [],
   "source": []
  },
  {
   "cell_type": "code",
   "execution_count": null,
   "metadata": {
    "collapsed": true
   },
   "outputs": [],
   "source": []
  },
  {
   "cell_type": "code",
   "execution_count": null,
   "metadata": {
    "collapsed": true
   },
   "outputs": [],
   "source": []
  },
  {
   "cell_type": "markdown",
   "metadata": {},
   "source": [
    "y = Y\n",
    "x = X\n",
    "\n",
    "for step in range(31):\n",
    "\n",
    "        # i = 0\n",
    "        #for x in X:\n",
    "       # y = Y[i]\n",
    "        #i += 1\n",
    "        #hypothesis = model(x)\n",
    "        #model = Model()\n",
    "        hypothesis = model(x)\n",
    "        # cost/loss function\n",
    "        # cost = -(y * torch.log(hypothesis) + (1 - y) * torch.log(1 - hypothesis)).mean()\n",
    "        # cost = criterion( hypothesis, y )\n",
    "        yy = torch.unsqueeze(y, 1)\n",
    "        cost = loss( hypothesis, yy )\n",
    "        #print( x )\n",
    "        #print(index, cost.data.numpy() )\n",
    "        \n",
    "        # cost = criterion( hypothesis, Y.long().view(-1))\n",
    "        # cons = loss_fn( hypothesis, Y)\n",
    "        optimizer.zero_grad()\n",
    "        cost.backward()\n",
    "        optimizer.step()\n",
    "\n",
    "        print(step, cost.data.numpy())"
   ]
  },
  {
   "cell_type": "code",
   "execution_count": null,
   "metadata": {
    "collapsed": false
   },
   "outputs": [
    {
     "name": "stdout",
     "output_type": "stream",
     "text": [
      "0 0.33723464608192444\n"
     ]
    }
   ],
   "source": [
    "#y = Y\n",
    "#x = X\n",
    "\n",
    "for step in range(30001):\n",
    "\n",
    "    #i = 0\n",
    "    #for x in X:\n",
    "    #    y = Y[i]\n",
    "    #    i += 1\n",
    "    for index, (x, y) in enumerate(dataloader):    \n",
    "        #hypothesis = model(x)\n",
    "        #model = Model()\n",
    "        hypothesis = model(x)\n",
    "        # cost/loss function\n",
    "        # cost = -(y * torch.log(hypothesis) + (1 - y) * torch.log(1 - hypothesis)).mean()\n",
    "        # cost = criterion( hypothesis, y )\n",
    "        y = torch.unsqueeze(y, 1)\n",
    "        cost = loss( hypothesis, y )\n",
    "        #print( x )\n",
    "        #print(index, cost.data.numpy() )\n",
    "        \n",
    "        # cost = criterion( hypothesis, Y.long().view(-1))\n",
    "        # cons = loss_fn( hypothesis, Y)\n",
    "        optimizer.zero_grad()\n",
    "        cost.backward()\n",
    "        optimizer.step()\n",
    "\n",
    "    if step % 200 == 0:\n",
    "        print(step, cost.data.numpy())"
   ]
  },
  {
   "cell_type": "code",
   "execution_count": null,
   "metadata": {
    "collapsed": false
   },
   "outputs": [],
   "source": [
    "# Accuracy computation\n",
    "predicted = (model(X).data >0.5).float()\n",
    "accuracy = (predicted == Y.data).float().mean()\n",
    "print(\"\\nHypothesis: \", hypothesis.data.numpy(), \"\\nCorrect (Y): \", predicted.numpy(), \"\\nAccuracy: \", accuracy)"
   ]
  },
  {
   "cell_type": "code",
   "execution_count": null,
   "metadata": {
    "collapsed": true
   },
   "outputs": [],
   "source": []
  }
 ],
 "metadata": {
  "kernelspec": {
   "display_name": "Python 3",
   "language": "python",
   "name": "python3"
  },
  "language_info": {
   "codemirror_mode": {
    "name": "ipython",
    "version": 3
   },
   "file_extension": ".py",
   "mimetype": "text/x-python",
   "name": "python",
   "nbconvert_exporter": "python",
   "pygments_lexer": "ipython3",
   "version": "3.6.0"
  }
 },
 "nbformat": 4,
 "nbformat_minor": 2
}
